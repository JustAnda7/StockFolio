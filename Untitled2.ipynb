{
 "cells": [
  {
   "cell_type": "code",
   "execution_count": 1,
   "id": "16cc01aa",
   "metadata": {},
   "outputs": [
    {
     "name": "stderr",
     "output_type": "stream",
     "text": [
      "/home/anda/anaconda3/lib/python3.11/site-packages/mpl_finance.py:16: DeprecationWarning: \n",
      "\n",
      "  =================================================================\n",
      "\n",
      "   WARNING: `mpl_finance` is deprecated:\n",
      "\n",
      "    Please use `mplfinance` instead (no hyphen, no underscore).\n",
      "\n",
      "    To install: `pip install --upgrade mplfinance` \n",
      "\n",
      "   For more information, see: https://pypi.org/project/mplfinance/\n",
      "\n",
      "  =================================================================\n",
      "\n",
      "  __warnings.warn('\\n\\n  ================================================================='+\n"
     ]
    }
   ],
   "source": [
    "import datetime\n",
    "import pandas as pd\n",
    "import numpy as np\n",
    "import matplotlib.pyplot as plt\n",
    "import pandas_datareader.data as web\n",
    "import yfinance as yf\n",
    "from matplotlib import style\n",
    "import mplfinance as mpf\n",
    "from mpl_finance import candlestick_ohlc\n",
    "\n",
    "import matplotlib.dates as mpdates\n",
    "\n",
    "style.use('ggplot')"
   ]
  },
  {
   "cell_type": "code",
   "execution_count": 2,
   "id": "a8fe8aab",
   "metadata": {},
   "outputs": [],
   "source": [
    "start = datetime.datetime(2019,1,1)\n",
    "end = datetime.datetime(2020,12,31)\n",
    "\n",
    "df = yf.Ticker('AAPL')"
   ]
  },
  {
   "cell_type": "code",
   "execution_count": 3,
   "id": "c73ab9c5",
   "metadata": {},
   "outputs": [
    {
     "data": {
      "text/html": [
       "<div>\n",
       "<style scoped>\n",
       "    .dataframe tbody tr th:only-of-type {\n",
       "        vertical-align: middle;\n",
       "    }\n",
       "\n",
       "    .dataframe tbody tr th {\n",
       "        vertical-align: top;\n",
       "    }\n",
       "\n",
       "    .dataframe thead th {\n",
       "        text-align: right;\n",
       "    }\n",
       "</style>\n",
       "<table border=\"1\" class=\"dataframe\">\n",
       "  <thead>\n",
       "    <tr style=\"text-align: right;\">\n",
       "      <th></th>\n",
       "      <th>Open</th>\n",
       "      <th>High</th>\n",
       "      <th>Low</th>\n",
       "      <th>Close</th>\n",
       "      <th>Volume</th>\n",
       "      <th>Dividends</th>\n",
       "      <th>Stock Splits</th>\n",
       "      <th>Price20ma</th>\n",
       "      <th>Vol20ma</th>\n",
       "      <th>Price50ma</th>\n",
       "    </tr>\n",
       "    <tr>\n",
       "      <th>Date</th>\n",
       "      <th></th>\n",
       "      <th></th>\n",
       "      <th></th>\n",
       "      <th></th>\n",
       "      <th></th>\n",
       "      <th></th>\n",
       "      <th></th>\n",
       "      <th></th>\n",
       "      <th></th>\n",
       "      <th></th>\n",
       "    </tr>\n",
       "  </thead>\n",
       "  <tbody>\n",
       "    <tr>\n",
       "      <th>2019-01-02 00:00:00-05:00</th>\n",
       "      <td>37.118910</td>\n",
       "      <td>38.067913</td>\n",
       "      <td>36.960742</td>\n",
       "      <td>37.845039</td>\n",
       "      <td>148158800</td>\n",
       "      <td>0.0</td>\n",
       "      <td>0.0</td>\n",
       "      <td>37.845039</td>\n",
       "      <td>1.481588e+08</td>\n",
       "      <td>37.845039</td>\n",
       "    </tr>\n",
       "    <tr>\n",
       "      <th>2019-01-03 00:00:00-05:00</th>\n",
       "      <td>34.504368</td>\n",
       "      <td>34.921355</td>\n",
       "      <td>34.029868</td>\n",
       "      <td>34.075401</td>\n",
       "      <td>365248800</td>\n",
       "      <td>0.0</td>\n",
       "      <td>0.0</td>\n",
       "      <td>35.960220</td>\n",
       "      <td>2.567038e+08</td>\n",
       "      <td>35.960220</td>\n",
       "    </tr>\n",
       "    <tr>\n",
       "      <th>2019-01-04 00:00:00-05:00</th>\n",
       "      <td>34.636166</td>\n",
       "      <td>35.599548</td>\n",
       "      <td>34.461225</td>\n",
       "      <td>35.530048</td>\n",
       "      <td>234428400</td>\n",
       "      <td>0.0</td>\n",
       "      <td>0.0</td>\n",
       "      <td>35.816830</td>\n",
       "      <td>2.492787e+08</td>\n",
       "      <td>35.816830</td>\n",
       "    </tr>\n",
       "    <tr>\n",
       "      <th>2019-01-07 00:00:00-05:00</th>\n",
       "      <td>35.635499</td>\n",
       "      <td>35.666654</td>\n",
       "      <td>34.964487</td>\n",
       "      <td>35.450970</td>\n",
       "      <td>219111200</td>\n",
       "      <td>0.0</td>\n",
       "      <td>0.0</td>\n",
       "      <td>35.725365</td>\n",
       "      <td>2.417368e+08</td>\n",
       "      <td>35.725365</td>\n",
       "    </tr>\n",
       "    <tr>\n",
       "      <th>2019-01-08 00:00:00-05:00</th>\n",
       "      <td>35.841590</td>\n",
       "      <td>36.383194</td>\n",
       "      <td>35.592358</td>\n",
       "      <td>36.126770</td>\n",
       "      <td>164101200</td>\n",
       "      <td>0.0</td>\n",
       "      <td>0.0</td>\n",
       "      <td>35.805646</td>\n",
       "      <td>2.262097e+08</td>\n",
       "      <td>35.805646</td>\n",
       "    </tr>\n",
       "  </tbody>\n",
       "</table>\n",
       "</div>"
      ],
      "text/plain": [
       "                                Open       High        Low      Close  \\\n",
       "Date                                                                    \n",
       "2019-01-02 00:00:00-05:00  37.118910  38.067913  36.960742  37.845039   \n",
       "2019-01-03 00:00:00-05:00  34.504368  34.921355  34.029868  34.075401   \n",
       "2019-01-04 00:00:00-05:00  34.636166  35.599548  34.461225  35.530048   \n",
       "2019-01-07 00:00:00-05:00  35.635499  35.666654  34.964487  35.450970   \n",
       "2019-01-08 00:00:00-05:00  35.841590  36.383194  35.592358  36.126770   \n",
       "\n",
       "                              Volume  Dividends  Stock Splits  Price20ma  \\\n",
       "Date                                                                       \n",
       "2019-01-02 00:00:00-05:00  148158800        0.0           0.0  37.845039   \n",
       "2019-01-03 00:00:00-05:00  365248800        0.0           0.0  35.960220   \n",
       "2019-01-04 00:00:00-05:00  234428400        0.0           0.0  35.816830   \n",
       "2019-01-07 00:00:00-05:00  219111200        0.0           0.0  35.725365   \n",
       "2019-01-08 00:00:00-05:00  164101200        0.0           0.0  35.805646   \n",
       "\n",
       "                                Vol20ma  Price50ma  \n",
       "Date                                                \n",
       "2019-01-02 00:00:00-05:00  1.481588e+08  37.845039  \n",
       "2019-01-03 00:00:00-05:00  2.567038e+08  35.960220  \n",
       "2019-01-04 00:00:00-05:00  2.492787e+08  35.816830  \n",
       "2019-01-07 00:00:00-05:00  2.417368e+08  35.725365  \n",
       "2019-01-08 00:00:00-05:00  2.262097e+08  35.805646  "
      ]
     },
     "execution_count": 3,
     "metadata": {},
     "output_type": "execute_result"
    }
   ],
   "source": [
    "history = df.history(start=start, end=end, period='1d')\n",
    "history['Price20ma'] = history['Close'].rolling(window=20, min_periods=0).mean()\n",
    "history['Vol20ma'] = history['Volume'].rolling(window=20, min_periods=0).mean()\n",
    "history['Price50ma'] = history['Close'].rolling(window=50, min_periods=0).mean()\n",
    "\n",
    "# data = df.history(start=start, end=end, period='1d')\n",
    "history.head()"
   ]
  },
  {
   "cell_type": "code",
   "execution_count": 4,
   "id": "22fe20b3",
   "metadata": {},
   "outputs": [],
   "source": [
    "from sklearn import linear_model\n",
    "from sklearn.model_selection import train_test_split\n",
    "from sklearn import metrics"
   ]
  },
  {
   "cell_type": "code",
   "execution_count": 5,
   "id": "6c9facb8",
   "metadata": {},
   "outputs": [],
   "source": [
    "data = history[history.index > '2019-01-01']\n",
    "data['pct_change'] = ((data['Close'] - data['Open'])/data['Open'])*100\n",
    "data.fillna(-99999, inplace=True)\n",
    "data['predict'] = data['Close'].shift(-30)\n",
    "data.drop(['Dividends', 'Stock Splits'], axis=1, inplace=True)\n",
    "data.dropna(inplace=True)\n",
    "\n",
    "\n",
    "\n"
   ]
  },
  {
   "cell_type": "code",
   "execution_count": 6,
   "id": "050fdee9",
   "metadata": {},
   "outputs": [
    {
     "data": {
      "text/plain": [
       "<Axes: xlabel='Date'>"
      ]
     },
     "execution_count": 6,
     "metadata": {},
     "output_type": "execute_result"
    },
    {
     "data": {
      "image/png": "[encoded data removed]",
      "text/plain": [
       "<Figure size 640x480 with 1 Axes>"
      ]
     },
     "metadata": {},
     "output_type": "display_data"
    }
   ],
   "source": [
    "hist = data.loc[:, ['Close']]\n",
    "ma = hist.rolling(window=15, center=True).mean()\n",
    "\n",
    "ax = hist.plot(style='.', color='0.5')\n",
    "ma.plot(ax=ax, linewidth=3)"
   ]
  },
  {
   "cell_type": "code",
   "execution_count": 7,
   "id": "d4abd09b",
   "metadata": {},
   "outputs": [
    {
     "name": "stdout",
     "output_type": "stream",
     "text": [
      "                           const  trend\n",
      "Date                                   \n",
      "2019-01-02 00:00:00-05:00    1.0    1.0\n",
      "2019-01-03 00:00:00-05:00    1.0    2.0\n",
      "2019-01-04 00:00:00-05:00    1.0    3.0\n",
      "2019-01-07 00:00:00-05:00    1.0    4.0\n",
      "2019-01-08 00:00:00-05:00    1.0    5.0\n",
      "...                          ...    ...\n",
      "2020-11-10 00:00:00-05:00    1.0  470.0\n",
      "2020-11-11 00:00:00-05:00    1.0  471.0\n",
      "2020-11-12 00:00:00-05:00    1.0  472.0\n",
      "2020-11-13 00:00:00-05:00    1.0  473.0\n",
      "2020-11-16 00:00:00-05:00    1.0  474.0\n",
      "\n",
      "[474 rows x 2 columns]\n"
     ]
    },
    {
     "data": {
      "image/png": "[encoded data removed]",
      "text/plain": [
       "<Figure size 640x480 with 1 Axes>"
      ]
     },
     "metadata": {},
     "output_type": "display_data"
    }
   ],
   "source": [
    "from statsmodels.tsa.deterministic import DeterministicProcess\n",
    "\n",
    "dp = DeterministicProcess(\n",
    "    index=hist.index,  # dates from the training data\n",
    "    constant=True,       # dummy feature for the bias (y_intercept)\n",
    "    order=1,             # the time dummy (trend)\n",
    "    drop=True,           # drop terms if necessary to avoid collinearity\n",
    ")\n",
    "# `in_sample` creates features for the dates given in the `index` argument\n",
    "X = dp.in_sample()\n",
    "print(X)\n",
    "\n",
    "y = hist['Close']\n",
    "\n",
    "model = linear_model.LinearRegression(fit_intercept=False)\n",
    "model.fit(X, y)\n",
    "\n",
    "y_pred = pd.Series(model.predict(X), index=X.index)\n",
    "ax = hist.plot(style=\".\", color=\"0.5\")\n",
    "_ = y_pred.plot(ax=ax, linewidth=3, label=\"Trend\")\n",
    "\n"
   ]
  },
  {
   "cell_type": "code",
   "execution_count": 8,
   "id": "17275d0e",
   "metadata": {},
   "outputs": [
    {
     "name": "stdout",
     "output_type": "stream",
     "text": [
      "     const  trend\n",
      "475    1.0  475.0\n",
      "476    1.0  476.0\n",
      "477    1.0  477.0\n",
      "478    1.0  478.0\n",
      "479    1.0  479.0\n",
      "480    1.0  480.0\n",
      "481    1.0  481.0\n",
      "482    1.0  482.0\n",
      "483    1.0  483.0\n",
      "484    1.0  484.0\n",
      "485    1.0  485.0\n",
      "486    1.0  486.0\n",
      "487    1.0  487.0\n",
      "488    1.0  488.0\n",
      "489    1.0  489.0\n",
      "490    1.0  490.0\n",
      "491    1.0  491.0\n",
      "492    1.0  492.0\n",
      "493    1.0  493.0\n",
      "494    1.0  494.0\n",
      "495    1.0  495.0\n",
      "496    1.0  496.0\n",
      "497    1.0  497.0\n",
      "498    1.0  498.0\n",
      "499    1.0  499.0\n",
      "500    1.0  500.0\n",
      "501    1.0  501.0\n",
      "502    1.0  502.0\n",
      "503    1.0  503.0\n",
      "504    1.0  504.0\n",
      "\n",
      "[108.15246503 108.31909693 108.48572883 108.65236072 108.81899262\n",
      " 108.98562451 109.15225641 109.3188883  109.4855202  109.65215209\n",
      " 109.81878399 109.98541588 110.15204778 110.31867967 110.48531157\n",
      " 110.65194346 110.81857536 110.98520725 111.15183915 111.31847104\n",
      " 111.48510294 111.65173483 111.81836673 111.98499862 112.15163052\n",
      " 112.31826241 112.48489431 112.6515262  112.8181581  112.98478999]\n"
     ]
    },
    {
     "name": "stderr",
     "output_type": "stream",
     "text": [
      "/home/anda/anaconda3/lib/python3.11/site-packages/statsmodels/tsa/deterministic.py:302: UserWarning: Only PeriodIndexes, DatetimeIndexes with a frequency set, RangesIndexes, and Index with a unit increment support extending. The index is set will contain the position relative to the data length.\n",
      "  fcast_index = self._extend_index(index, steps, forecast_index)\n"
     ]
    }
   ],
   "source": [
    "dp = DeterministicProcess(\n",
    "    index=hist.index,  # dates from the training data\n",
    "    constant=True,       # dummy feature for the bias (y_intercept)\n",
    "    order=1,             # the time dummy (trend)\n",
    "    drop=True,           # drop terms if necessary to avoid collinearity\n",
    ")\n",
    "X = dp.out_of_sample(steps=30)\n",
    "\n",
    "y_fore = model.predict(X)\n",
    "print(X)\n",
    "print()\n",
    "print(y_fore)\n",
    "\n",
    "# ax = hist.plot(title=\"CLose Price\")\n",
    "# ax = y_pred.plot(ax=ax, linewidth=3, label=\"Trend\")\n",
    "# ax = y_fore.plot(ax=ax, linewidth=3, label=\"Trend Forecast\", color=\"C3\")\n",
    "# _ = ax.legend()"
   ]
  },
  {
   "cell_type": "code",
   "execution_count": 41,
   "id": "cec79d62",
   "metadata": {},
   "outputs": [
    {
     "name": "stdout",
     "output_type": "stream",
     "text": [
      "                                Close     predict\n",
      "Date                                             \n",
      "2019-01-02 00:00:00-05:00   37.845039   41.107235\n",
      "2019-01-03 00:00:00-05:00   34.075401   41.015781\n",
      "2019-01-04 00:00:00-05:00   35.530048   41.138527\n",
      "2019-01-07 00:00:00-05:00   35.450970   41.403271\n",
      "2019-01-08 00:00:00-05:00   36.126770   41.169819\n",
      "...                               ...         ...\n",
      "2020-11-10 00:00:00-05:00  113.812172  128.523254\n",
      "2020-11-11 00:00:00-05:00  117.266678  129.514496\n",
      "2020-11-12 00:00:00-05:00  116.991898  134.146652\n",
      "2020-11-13 00:00:00-05:00  117.040962  132.360489\n",
      "2020-11-16 00:00:00-05:00  118.061607  131.231903\n",
      "\n",
      "[474 rows x 2 columns]\n"
     ]
    }
   ],
   "source": [
    "data1 = data.drop(['Vol20ma', 'Price20ma', 'Price50ma', 'High', 'Low', 'Open', 'Volume', 'pct_change'], axis=1)\n",
    "# data1['CloseLag1'] = data1['Close'].shift(1)\n",
    "# data1['ClsoeLag2'] = data1['Close'].shift(2)\n",
    "# data1['CloseLag3'] = data1['Close'].shift(3)\n",
    "# data1['CloseLag4'] = data1['Close'].shift(4)\n",
    "data1.dropna(inplace=True)\n",
    "print(data1)\n",
    "\n",
    "X = np.array(data1.drop(['predict'], axis=1))\n",
    "y = np.array(data1['predict'])"
   ]
  },
  {
   "cell_type": "code",
   "execution_count": 42,
   "id": "eb263bb0",
   "metadata": {},
   "outputs": [],
   "source": [
    "X_train, X_test, y_train, y_test = train_test_split(X,y,test_size=0.3)"
   ]
  },
  {
   "cell_type": "code",
   "execution_count": 43,
   "id": "e89e94b1",
   "metadata": {},
   "outputs": [
    {
     "name": "stdout",
     "output_type": "stream",
     "text": [
      "0.8687231658254951\n"
     ]
    }
   ],
   "source": [
    "lr = linear_model.LinearRegression()\n",
    "lr.fit(X_train, y_train)\n",
    "y_hat_1 = lr.predict(X_test)\n",
    "acc = metrics.r2_score(y_hat_1, y_test)\n",
    "print(acc)"
   ]
  },
  {
   "cell_type": "code",
   "execution_count": 44,
   "id": "b15e730e",
   "metadata": {},
   "outputs": [
    {
     "name": "stdout",
     "output_type": "stream",
     "text": [
      "0.8686811249976734\n"
     ]
    }
   ],
   "source": [
    "lasso = linear_model.Lasso(alpha=0.09)\n",
    "lasso.fit(X_train, y_train)\n",
    "y_hat_2 = lasso.predict(X_test)\n",
    "acc = metrics.r2_score(y_hat_2, y_test)\n",
    "print(acc)"
   ]
  },
  {
   "cell_type": "code",
   "execution_count": null,
   "id": "9bf2dbfa",
   "metadata": {},
   "outputs": [],
   "source": [
    "class Locally_weight:\n",
    "    def __init__(self, tau = 0.01):\n",
    "        self.tau = tau\n",
    "\n",
    "    def weight(self, point, X):\n",
    "        wmat = np.mat(np.eye(len(X)))\n",
    "        for idx in range(len(X)):\n",
    "            wmat[idx, idx] = np.exp(np.dot((X[idx] - point), (X[idx] - point).T)/2*self.tau*self.tau)\n",
    "        return wmat\n",
    "    \n",
    "    def predict(self, X, y, point):\n",
    "        p = np.mat([point, 1])\n",
    "        X = np.hstack(X, np.ones(()))\n",
    "            \n",
    "    def fit(self, X_train, y_train):\n",
    "        \n",
    "        \n",
    "    "
   ]
  },
  {
   "cell_type": "code",
   "execution_count": 48,
   "id": "40c9859e",
   "metadata": {},
   "outputs": [],
   "source": [
    "class LocallyWeightedRegression:\n",
    "    #maths behind Linear Regression:\n",
    "    # theta = inv(X.T*W*X)*(X.T*W*Y)this will be our theta whic will \n",
    "    # be learnt for each point\n",
    "    # initializer of LocallyWeighted Regression that stores tau as parameters\n",
    "    def __init__(self, tau = 0.01):\n",
    "        self.tau = tau\n",
    "    def kernel(self, query_point, X):\n",
    "        Weight_matrix = np.mat(np.eye(len(X)))\n",
    "        for idx in range(len(X)):\n",
    "#             print(np.dot(X[idx]-query_point, (X[idx]-query_point).T))\n",
    "#             print(self.tau)\n",
    "            Weight_matrix[idx,idx] = np.exp(np.dot(X[idx]-query_point, (X[idx]-query_point).T)/(-2*self.tau*self.tau))\n",
    "#             print(Weight_matrix[idx,idx])\n",
    "        return Weight_matrix\n",
    "    # function that makes the predictions of the output of a given query point\n",
    "    def predict(self, X, Y, query_point):\n",
    "        q = np.hstack([query_point, 1])\n",
    "        X = np.hstack((X, np.ones((len(X), 1))))\n",
    "        W = self.kernel(q, X)\n",
    "        theta = np.linalg.pinv(X.T*(W*X))*(X.T*(W*Y))\n",
    "        pred = np.dot(q, theta)\n",
    "        return pred\n",
    "    #function that fits and predicts the output of all query points\n",
    "    def fit_and_predict(self, X, Y, X_test):\n",
    "        Y_test = []\n",
    "        for x in X_test:\n",
    "#             print(x)\n",
    "            pred = self.predict(X, Y, x)\n",
    "            Y_test.append(pred)\n",
    "        Y_test = np.array(Y_test)\n",
    "        return Y_test\n",
    "    # function that computes the score rmse\n",
    "    def score(self, Y, Y_pred):\n",
    "        return np.sqrt(np.mean((Y-Y_pred)**2))\n",
    "    # function that fits as well as shows the scatter plot of all points\n",
    "    def fit_and_show(self, X, Y):\n",
    "        Y_test, X_test = [], np.linspace(-np.max(X), np.max(X), len(X))\n",
    "        for x in X_test:\n",
    "            pred = self.predict(X, Y, x)\n",
    "            Y_test.append(pred[0][0])\n",
    "        Y_test = np.array(Y_test)\n",
    "        plt.style.use('seaborn')\n",
    "        plt.title(\"The scatter plot for the value of tau = %.5f\"% self.tau)\n",
    "        plt.scatter(X, Y, color = 'red')\n",
    "        plt.scatter(X_test, Y_test, color = 'green')\n",
    "        plt.show()"
   ]
  },
  {
   "cell_type": "code",
   "execution_count": 52,
   "id": "f729a349",
   "metadata": {},
   "outputs": [
    {
     "name": "stdout",
     "output_type": "stream",
     "text": [
      "(143, 1, 1)\n"
     ]
    }
   ],
   "source": [
    "model = LocallyWeightedRegression(tau=2)\n",
    "y_tra = np.array([y_train])\n",
    "y_tra = y_tra.T\n",
    "# print(y_tra)\n",
    "y_hat = model.fit_and_predict(X_train, y_tra, X_test)\n",
    "print(y_hat.shape)"
   ]
  },
  {
   "cell_type": "code",
   "execution_count": 50,
   "id": "07450b8c",
   "metadata": {},
   "outputs": [
    {
     "ename": "ValueError",
     "evalue": "x and y must have same first dimension, but have shapes (474,) and (143,)",
     "output_type": "error",
     "traceback": [
      "\u001b[0;31m---------------------------------------------------------------------------\u001b[0m",
      "\u001b[0;31mValueError\u001b[0m                                Traceback (most recent call last)",
      "Cell \u001b[0;32mIn[50], line 3\u001b[0m\n\u001b[1;32m      1\u001b[0m ax \u001b[38;5;241m=\u001b[39m plt\u001b[38;5;241m.\u001b[39msubplot()\n\u001b[1;32m      2\u001b[0m \u001b[38;5;66;03m# ax.plot(data.index, data['Close'], color='b')\u001b[39;00m\n\u001b[0;32m----> 3\u001b[0m ax\u001b[38;5;241m.\u001b[39mplot(data\u001b[38;5;241m.\u001b[39mindex, y_test, color\u001b[38;5;241m=\u001b[39m\u001b[38;5;124m'\u001b[39m\u001b[38;5;124mg\u001b[39m\u001b[38;5;124m'\u001b[39m)\n\u001b[1;32m      4\u001b[0m ax\u001b[38;5;241m.\u001b[39mplot(data\u001b[38;5;241m.\u001b[39mindex, y_hat, color\u001b[38;5;241m=\u001b[39m\u001b[38;5;124m'\u001b[39m\u001b[38;5;124mr\u001b[39m\u001b[38;5;124m'\u001b[39m)\n\u001b[1;32m      5\u001b[0m plt\u001b[38;5;241m.\u001b[39mshow()\n",
      "File \u001b[0;32m~/anaconda3/lib/python3.11/site-packages/matplotlib/axes/_axes.py:1688\u001b[0m, in \u001b[0;36mAxes.plot\u001b[0;34m(self, scalex, scaley, data, *args, **kwargs)\u001b[0m\n\u001b[1;32m   1445\u001b[0m \u001b[38;5;250m\u001b[39m\u001b[38;5;124;03m\"\"\"\u001b[39;00m\n\u001b[1;32m   1446\u001b[0m \u001b[38;5;124;03mPlot y versus x as lines and/or markers.\u001b[39;00m\n\u001b[1;32m   1447\u001b[0m \n\u001b[0;32m   (...)\u001b[0m\n\u001b[1;32m   1685\u001b[0m \u001b[38;5;124;03m(``'green'``) or hex strings (``'#008000'``).\u001b[39;00m\n\u001b[1;32m   1686\u001b[0m \u001b[38;5;124;03m\"\"\"\u001b[39;00m\n\u001b[1;32m   1687\u001b[0m kwargs \u001b[38;5;241m=\u001b[39m cbook\u001b[38;5;241m.\u001b[39mnormalize_kwargs(kwargs, mlines\u001b[38;5;241m.\u001b[39mLine2D)\n\u001b[0;32m-> 1688\u001b[0m lines \u001b[38;5;241m=\u001b[39m [\u001b[38;5;241m*\u001b[39m\u001b[38;5;28mself\u001b[39m\u001b[38;5;241m.\u001b[39m_get_lines(\u001b[38;5;241m*\u001b[39margs, data\u001b[38;5;241m=\u001b[39mdata, \u001b[38;5;241m*\u001b[39m\u001b[38;5;241m*\u001b[39mkwargs)]\n\u001b[1;32m   1689\u001b[0m \u001b[38;5;28;01mfor\u001b[39;00m line \u001b[38;5;129;01min\u001b[39;00m lines:\n\u001b[1;32m   1690\u001b[0m     \u001b[38;5;28mself\u001b[39m\u001b[38;5;241m.\u001b[39madd_line(line)\n",
      "File \u001b[0;32m~/anaconda3/lib/python3.11/site-packages/matplotlib/axes/_base.py:311\u001b[0m, in \u001b[0;36m_process_plot_var_args.__call__\u001b[0;34m(self, data, *args, **kwargs)\u001b[0m\n\u001b[1;32m    309\u001b[0m     this \u001b[38;5;241m+\u001b[39m\u001b[38;5;241m=\u001b[39m args[\u001b[38;5;241m0\u001b[39m],\n\u001b[1;32m    310\u001b[0m     args \u001b[38;5;241m=\u001b[39m args[\u001b[38;5;241m1\u001b[39m:]\n\u001b[0;32m--> 311\u001b[0m \u001b[38;5;28;01myield from\u001b[39;00m \u001b[38;5;28mself\u001b[39m\u001b[38;5;241m.\u001b[39m_plot_args(\n\u001b[1;32m    312\u001b[0m     this, kwargs, ambiguous_fmt_datakey\u001b[38;5;241m=\u001b[39mambiguous_fmt_datakey)\n",
      "File \u001b[0;32m~/anaconda3/lib/python3.11/site-packages/matplotlib/axes/_base.py:504\u001b[0m, in \u001b[0;36m_process_plot_var_args._plot_args\u001b[0;34m(self, tup, kwargs, return_kwargs, ambiguous_fmt_datakey)\u001b[0m\n\u001b[1;32m    501\u001b[0m     \u001b[38;5;28mself\u001b[39m\u001b[38;5;241m.\u001b[39maxes\u001b[38;5;241m.\u001b[39myaxis\u001b[38;5;241m.\u001b[39mupdate_units(y)\n\u001b[1;32m    503\u001b[0m \u001b[38;5;28;01mif\u001b[39;00m x\u001b[38;5;241m.\u001b[39mshape[\u001b[38;5;241m0\u001b[39m] \u001b[38;5;241m!=\u001b[39m y\u001b[38;5;241m.\u001b[39mshape[\u001b[38;5;241m0\u001b[39m]:\n\u001b[0;32m--> 504\u001b[0m     \u001b[38;5;28;01mraise\u001b[39;00m \u001b[38;5;167;01mValueError\u001b[39;00m(\u001b[38;5;124mf\u001b[39m\u001b[38;5;124m\"\u001b[39m\u001b[38;5;124mx and y must have same first dimension, but \u001b[39m\u001b[38;5;124m\"\u001b[39m\n\u001b[1;32m    505\u001b[0m                      \u001b[38;5;124mf\u001b[39m\u001b[38;5;124m\"\u001b[39m\u001b[38;5;124mhave shapes \u001b[39m\u001b[38;5;132;01m{\u001b[39;00mx\u001b[38;5;241m.\u001b[39mshape\u001b[38;5;132;01m}\u001b[39;00m\u001b[38;5;124m and \u001b[39m\u001b[38;5;132;01m{\u001b[39;00my\u001b[38;5;241m.\u001b[39mshape\u001b[38;5;132;01m}\u001b[39;00m\u001b[38;5;124m\"\u001b[39m)\n\u001b[1;32m    506\u001b[0m \u001b[38;5;28;01mif\u001b[39;00m x\u001b[38;5;241m.\u001b[39mndim \u001b[38;5;241m>\u001b[39m \u001b[38;5;241m2\u001b[39m \u001b[38;5;129;01mor\u001b[39;00m y\u001b[38;5;241m.\u001b[39mndim \u001b[38;5;241m>\u001b[39m \u001b[38;5;241m2\u001b[39m:\n\u001b[1;32m    507\u001b[0m     \u001b[38;5;28;01mraise\u001b[39;00m \u001b[38;5;167;01mValueError\u001b[39;00m(\u001b[38;5;124mf\u001b[39m\u001b[38;5;124m\"\u001b[39m\u001b[38;5;124mx and y can be no greater than 2D, but have \u001b[39m\u001b[38;5;124m\"\u001b[39m\n\u001b[1;32m    508\u001b[0m                      \u001b[38;5;124mf\u001b[39m\u001b[38;5;124m\"\u001b[39m\u001b[38;5;124mshapes \u001b[39m\u001b[38;5;132;01m{\u001b[39;00mx\u001b[38;5;241m.\u001b[39mshape\u001b[38;5;132;01m}\u001b[39;00m\u001b[38;5;124m and \u001b[39m\u001b[38;5;132;01m{\u001b[39;00my\u001b[38;5;241m.\u001b[39mshape\u001b[38;5;132;01m}\u001b[39;00m\u001b[38;5;124m\"\u001b[39m)\n",
      "\u001b[0;31mValueError\u001b[0m: x and y must have same first dimension, but have shapes (474,) and (143,)"
     ]
    },
    {
     "data": {
      "image/png": "[encoded data removed]",
      "text/plain": [
       "<Figure size 640x480 with 1 Axes>"
      ]
     },
     "metadata": {},
     "output_type": "display_data"
    }
   ],
   "source": [
    "ax = plt.subplot()\n",
    "# ax.plot(data.index, data['Close'], color='b')\n",
    "ax.plot(data.index, y_test, color='g')\n",
    "ax.plot(data.index, y_hat, color='r')\n",
    "plt.show()"
   ]
  },
  {
   "cell_type": "code",
   "execution_count": null,
   "id": "b1decd16",
   "metadata": {},
   "outputs": [],
   "source": []
  }
 ],
 "metadata": {
  "kernelspec": {
   "display_name": "Python 3 (ipykernel)",
   "language": "python",
   "name": "python3"
  },
  "language_info": {
   "codemirror_mode": {
    "name": "ipython",
    "version": 3
   },
   "file_extension": ".py",
   "mimetype": "text/x-python",
   "name": "python",
   "nbconvert_exporter": "python",
   "pygments_lexer": "ipython3",
   "version": "3.11.4"
  }
 },
 "nbformat": 4,
 "nbformat_minor": 5
}
